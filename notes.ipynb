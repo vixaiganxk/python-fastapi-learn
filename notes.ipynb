{
 "cells": [
  {
   "cell_type": "markdown",
   "metadata": {},
   "source": [
    "# Fast-API"
   ]
  },
  {
   "cell_type": "markdown",
   "metadata": {},
   "source": [
    "### 1. Simple code of FastAPI app"
   ]
  },
  {
   "cell_type": "code",
   "execution_count": null,
   "metadata": {},
   "outputs": [],
   "source": [
    "from fastapi import FastAPI\n",
    "from fastapi.params import Body    #--> Used to extract content/data from the body\n",
    "\n",
    "app = FastAPI()  #app - instance of FastAPI class in fastapi module\n",
    "\n",
    "#Normal get operation with decorator of the above instance\n",
    "@app.get('/')\n",
    "def get_post():\n",
    "    return {'message': 'Hello FastAP!!!'}\n",
    "\n",
    "\n",
    "'''\n",
    "'/' - Route/Endpoint\n",
    "@app.get() - decorator function which performs the below - get_post()\n",
    "'''"
   ]
  },
  {
   "cell_type": "markdown",
   "metadata": {},
   "source": [
    "### 2. HTTP Method - POST - Updation of data to the server\n",
    "- Post request is one of the method of HTTP.\n",
    "- It's a client request along with data - it'll be requested to API server.\n",
    "- In return, server sends a data for the updation of something."
   ]
  },
  {
   "cell_type": "code",
   "execution_count": null,
   "metadata": {},
   "outputs": [],
   "source": [
    "@app.post('/createpost')\n",
    "def create_post(data: dict = Body(...)):                  #---> Extract data from the body (user-data) and stores it as dictionary\n",
    "    return {'new_post_statue': ' Post updated Successfully',\n",
    "            'post_title': data['title'],\n",
    "            'post_content': data['content']}\n",
    "\n",
    "'''\n",
    "Using post, request along with data will be sent to the server,\n",
    "As response, we can extract the data that which we updated.\n",
    "'''\n"
   ]
  },
  {
   "cell_type": "markdown",
   "metadata": {},
   "source": [
    "### 3. Schema Validation\n",
    "- Pydantic - A separate module which we use for schema/data validation from client.\n",
    "- Main Idea  - To restrict and get only the valid/necessary schema(data) from the client.\n",
    "- We inherit the BaseModel to our own class to valid the schema."
   ]
  },
  {
   "cell_type": "code",
   "execution_count": null,
   "metadata": {},
   "outputs": [],
   "source": [
    "from pydantic import BaseModel\n",
    "\n",
    "class Post(BaseModel):\n",
    "    title: str\n",
    "    content: str\n",
    "\n",
    "@app.post('/createpost')\n",
    "def create_post(post: Post):\n",
    "    return {\n",
    "        'post_status': 'Updated Successfully',\n",
    "        'post_title': post.title,\n",
    "        'post_content': post.content\n",
    "\n",
    "    }\n",
    "\n",
    "'''\n",
    "Created a class Post by inheriting the BaseModel class from pydantic\n",
    "It's check whether the body has both title and content alone\n",
    "If True: It updates and extract the same data\n",
    "Else: Throws error as value missing - ERROR_CODE: 422 - Unprocessible Entity\n",
    "'''\n"
   ]
  },
  {
   "cell_type": "markdown",
   "metadata": {},
   "source": [
    "#### 3A. Default & Optional entities of the schema "
   ]
  },
  {
   "cell_type": "code",
   "execution_count": null,
   "metadata": {},
   "outputs": [],
   "source": [
    "from pydantic import BaseModel\n",
    "from typing import Optional\n",
    "\n",
    "class Post(BaseModel):\n",
    "    title: str\n",
    "    content: str\n",
    "    rating: Optional[int] = None   # Optional Validation\n",
    "    published: bool = True         # Default Validation     \n",
    "\n",
    "@app.post('/createpost')\n",
    "def create_post(post: Post):\n",
    "    return {\n",
    "        'post_status': 'Updated Successfully',\n",
    "        'post_title': post.title,\n",
    "        'post_content': post.content\n",
    "\n",
    "    }\n",
    "\n",
    "'''\n",
    "Rating - Optional validation\n",
    "If Rating is provided by the client, It takes the integer value of the entity.\n",
    "Else: It returns the value as None to it.\n",
    "\n",
    "Published - Default Validation\n",
    "If published entity is provided, It takes and accepts the bool of it\n",
    "Else: It returns True as default\n",
    "\n",
    "Data Retrieval - Pydantic\n",
    "From the body of the content - It's extracted as pydantic model\n",
    "To convert the model to dictionary - post.dict()\n",
    "'''\n"
   ]
  }
 ],
 "metadata": {
  "kernelspec": {
   "display_name": "fastapi_env",
   "language": "python",
   "name": "python3"
  },
  "language_info": {
   "name": "python",
   "version": "3.12.1"
  }
 },
 "nbformat": 4,
 "nbformat_minor": 2
}
